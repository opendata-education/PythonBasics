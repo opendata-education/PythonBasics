{
 "cells": [
  {
   "cell_type": "markdown",
   "metadata": {},
   "source": [
    "####  Combining a list of strings into a single one\n"
   ]
  },
  {
   "cell_type": "code",
   "execution_count": 3,
   "metadata": {},
   "outputs": [
    {
     "data": {
      "text/plain": [
       "'this is my name'"
      ]
     },
     "execution_count": 3,
     "metadata": {},
     "output_type": "execute_result"
    }
   ],
   "source": [
    "string_list = ['this','is','my','name']\n",
    "sentence_list = ' '.join(string_list)\n",
    "sentence_list"
   ]
  },
  {
   "cell_type": "markdown",
   "metadata": {},
   "source": [
    "#### Splitting a string into a list of substrings\n"
   ]
  },
  {
   "cell_type": "code",
   "execution_count": 1,
   "metadata": {},
   "outputs": [
    {
     "name": "stdout",
     "output_type": "stream",
     "text": [
      "['This', 'is', 'lucky', 'day', 'of', 'my', 'life']\n"
     ]
    }
   ],
   "source": [
    "sentence = 'This is lucky day of my life'\n",
    "print(sentence.split())"
   ]
  },
  {
   "cell_type": "markdown",
   "metadata": {},
   "source": [
    "#### Initialising a list till certain length\n"
   ]
  },
  {
   "cell_type": "code",
   "execution_count": 22,
   "metadata": {},
   "outputs": [
    {
     "data": {
      "text/plain": [
       "['Foo', 'Foo', 'Foo']"
      ]
     },
     "execution_count": 22,
     "metadata": {},
     "output_type": "execute_result"
    }
   ],
   "source": [
    "[0]*10\n",
    "['Foo']*3"
   ]
  },
  {
   "cell_type": "markdown",
   "metadata": {},
   "source": [
    "####  List Comprehension"
   ]
  },
  {
   "cell_type": "code",
   "execution_count": 5,
   "metadata": {},
   "outputs": [
    {
     "data": {
      "text/plain": [
       "[1, 8, 27]"
      ]
     },
     "execution_count": 5,
     "metadata": {},
     "output_type": "execute_result"
    }
   ],
   "source": [
    "lst = [1,2,3]\n",
    "\n",
    "new_lst = [dig**3 for dig in lst] # dig represents each digit in list\n",
    "new_lst"
   ]
  },
  {
   "cell_type": "markdown",
   "metadata": {},
   "source": [
    "####  Sum of numbers in a string"
   ]
  },
  {
   "cell_type": "code",
   "execution_count": 14,
   "metadata": {},
   "outputs": [
    {
     "data": {
      "text/plain": [
       "2"
      ]
     },
     "execution_count": 14,
     "metadata": {},
     "output_type": "execute_result"
    }
   ],
   "source": [
    "st ='1,-2,3'\n",
    "\n",
    "st2 = ([int(dig) for dig in st.split(',')])\n",
    "#st2\n",
    "sum(st2)"
   ]
  },
  {
   "cell_type": "markdown",
   "metadata": {},
   "source": [
    "Lets visit the documentation page: \n",
    "    https://docs.python.org/3/tutorial/datastructures.html\n",
    "Refer section 5.1.3"
   ]
  },
  {
   "cell_type": "markdown",
   "metadata": {},
   "source": [
    "####  Reversing a string"
   ]
  },
  {
   "cell_type": "code",
   "execution_count": 23,
   "metadata": {},
   "outputs": [
    {
     "data": {
      "text/plain": [
       "'nav nav'"
      ]
     },
     "execution_count": 23,
     "metadata": {},
     "output_type": "execute_result"
    }
   ],
   "source": [
    "string = 'van van' \n",
    "string[::-1]"
   ]
  },
  {
   "cell_type": "markdown",
   "metadata": {},
   "source": [
    "####  Finding certain character's/word's index (first occurence)"
   ]
  },
  {
   "cell_type": "code",
   "execution_count": 54,
   "metadata": {},
   "outputs": [
    {
     "data": {
      "text/plain": [
       "4"
      ]
     },
     "execution_count": 54,
     "metadata": {},
     "output_type": "execute_result"
    }
   ],
   "source": [
    "def findChar(st,char):\n",
    "    if st.find(char)==-1:  #find function find returns -1 if the character is not found. (See the documentation)\n",
    "        return 'Character not found'\n",
    "    else:\n",
    "        return st.find(char)\n",
    "\n",
    "st = 'This is foo. This is bar'\n",
    "findChar(st,' ')\n",
    "#st.find('z')"
   ]
  },
  {
   "cell_type": "code",
   "execution_count": 52,
   "metadata": {},
   "outputs": [
    {
     "data": {
      "text/plain": [
       "'Index not found'"
      ]
     },
     "execution_count": 52,
     "metadata": {},
     "output_type": "execute_result"
    }
   ],
   "source": [
    "def findChar(st,char):\n",
    "    index = st.find(char)\n",
    "    while True:\n",
    "        if index !=-1:\n",
    "            index = index\n",
    "        else:\n",
    "            index = 'Index not found'\n",
    "        break\n",
    "    return index\n",
    "        \n",
    "st1 = 'This is foo. This is bar'\n",
    "findChar(st1,'an')"
   ]
  },
  {
   "cell_type": "markdown",
   "metadata": {},
   "source": [
    "Why the heck did I do while True:\n",
    "Mostly it is used when any exceptional case raises error. But in this case -1 is returned when there is any exceptions. But still I tried in our example. Dont forget to break the while True loop else it will keep iterating without a stop condition.    "
   ]
  },
  {
   "cell_type": "markdown",
   "metadata": {},
   "source": [
    "#### Now lets find all the occurence of word this"
   ]
  },
  {
   "cell_type": "code",
   "execution_count": 61,
   "metadata": {},
   "outputs": [
    {
     "data": {
      "text/plain": [
       "0"
      ]
     },
     "execution_count": 61,
     "metadata": {},
     "output_type": "execute_result"
    }
   ],
   "source": [
    "#We are now using index function which would work for list\n",
    "st1.split().index('This') #This will give the first occurence\n",
    "#st1.split().index('am') #This will give ValueError as the word is not in the list\n"
   ]
  },
  {
   "cell_type": "code",
   "execution_count": 74,
   "metadata": {},
   "outputs": [
    {
     "name": "stdout",
     "output_type": "stream",
     "text": [
      "Element not found. Error message:\n",
      " 'am' is not in list\n"
     ]
    }
   ],
   "source": [
    "#Now lets fix the error case\n",
    "listOfStrings = st1.split()\n",
    "try:\n",
    "    indexPos = listOfStrings.index('am')\n",
    "    print(\"Index of the element 'am' is \",indexPos)\n",
    "except ValueError as err:\n",
    "    print(\"Element not found. Error message:\\n\" ,err)\n",
    "    "
   ]
  },
  {
   "cell_type": "code",
   "execution_count": 85,
   "metadata": {},
   "outputs": [
    {
     "data": {
      "text/plain": [
       "['This', 'is', 'foo.', 'This', 'is', 'bar']"
      ]
     },
     "execution_count": 85,
     "metadata": {},
     "output_type": "execute_result"
    }
   ],
   "source": [
    "st1 = 'This is foo. This is bar'\n",
    "st1.split(' ')"
   ]
  },
  {
   "cell_type": "markdown",
   "metadata": {},
   "source": [
    "Now lets get all the index"
   ]
  },
  {
   "cell_type": "code",
   "execution_count": 97,
   "metadata": {},
   "outputs": [
    {
     "name": "stdout",
     "output_type": "stream",
     "text": [
      "Indexes of all occurrences of word \"This\" in the list are :  [0, 3]\n"
     ]
    }
   ],
   "source": [
    "def getIndex(lst, char):\n",
    "    \n",
    "    ###Returns the indexes of all occurrences of give element in the list lst \n",
    "    \n",
    "    indexCur = []\n",
    "    for i in range(len(lst)):\n",
    "        if lst[i] == char:\n",
    "            indexCur.append(i)\n",
    "    return indexCur  \n",
    " \n",
    "#Lets construct parameter lst for the function getIndex()\n",
    "listOfStrings = st1.split()\n",
    "\n",
    "# Get indexes of all occurrences of 'Ok' in the list\n",
    "indexCurList = getIndex(listOfStrings, 'This')\n",
    " \n",
    "print('Indexes of all occurrences of word \"This\" in the list are : ', indexCurList)"
   ]
  },
  {
   "cell_type": "markdown",
   "metadata": {},
   "source": [
    "Is there any easy way ? I heard python is reputed for being easily understandable and for being flexible"
   ]
  },
  {
   "cell_type": "code",
   "execution_count": 99,
   "metadata": {},
   "outputs": [
    {
     "data": {
      "text/plain": [
       "[0, 3]"
      ]
     },
     "execution_count": 99,
     "metadata": {},
     "output_type": "execute_result"
    }
   ],
   "source": [
    "[index for index in range(len(listOfStrings)) if listOfStrings[index]=='This']"
   ]
  },
  {
   "cell_type": "markdown",
   "metadata": {},
   "source": [
    "Oh my! "
   ]
  },
  {
   "cell_type": "markdown",
   "metadata": {},
   "source": [
    "Wow! with python we have easy ways"
   ]
  },
  {
   "cell_type": "markdown",
   "metadata": {},
   "source": [
    "####  Returning multiple values from a function\n"
   ]
  },
  {
   "cell_type": "code",
   "execution_count": 4,
   "metadata": {},
   "outputs": [
    {
     "data": {
      "text/plain": [
       "('Jesus', 'is', 'coming')"
      ]
     },
     "execution_count": 4,
     "metadata": {},
     "output_type": "execute_result"
    }
   ],
   "source": [
    "def multiple_return():\n",
    "    a = 'Jesus'\n",
    "    b = 'is'\n",
    "    c = 'coming'\n",
    "    return a,b,c\n",
    "\n",
    "return_sentence = multiple_return()  ## we call the function to return the values \n",
    "(a,b,c) = return_sentence   ##We unpacked it to a tuple\n",
    "return_sentence"
   ]
  },
  {
   "cell_type": "code",
   "execution_count": 14,
   "metadata": {},
   "outputs": [
    {
     "data": {
      "text/plain": [
       "tuple"
      ]
     },
     "execution_count": 14,
     "metadata": {},
     "output_type": "execute_result"
    }
   ],
   "source": [
    "type(return_sentence)"
   ]
  },
  {
   "cell_type": "markdown",
   "metadata": {},
   "source": [
    "#### Some advanced stuffs with functions"
   ]
  },
  {
   "cell_type": "markdown",
   "metadata": {},
   "source": [
    "Sometimes we see in some documentation pages, some arguments in a function are optional. How do they do that? Let's try one way"
   ]
  },
  {
   "cell_type": "markdown",
   "metadata": {},
   "source": [
    "Write a function that recieves a list , start index and segment length as arguments. The function returns a sublist of given length\n",
    "starting from the given start index. The start index should have a default value of 0 and the length a default value of 4.\n",
    " \n",
    "Definition and Usage:\n",
    "The getSublist() method gets a substring from a specified string.\n",
    "Syntax:\n",
    "getSublist(lst,start, length)\n",
    "\n",
    "Parameter -> Description\n",
    "\n",
    "lst -> Required. A specified List\n",
    "\n",
    "start -> Optional. Where to start the beginning index. Default 0.\n",
    "\n",
    "length -> Optional. What segment length of substring to consider. Default 4"
   ]
  },
  {
   "cell_type": "code",
   "execution_count": 101,
   "metadata": {},
   "outputs": [],
   "source": [
    "def getSublist(lst,start=None,length = None):\n",
    "    if not start and not length:\n",
    "        start = 0\n",
    "        length = 4\n",
    "    elif not length:\n",
    "        start = start\n",
    "        length = start+4\n",
    "    else:\n",
    "        start = start\n",
    "        length = start+length\n",
    "    return lst[start:length]"
   ]
  },
  {
   "cell_type": "code",
   "execution_count": 103,
   "metadata": {},
   "outputs": [
    {
     "data": {
      "text/plain": [
       "'Hell'"
      ]
     },
     "execution_count": 103,
     "metadata": {},
     "output_type": "execute_result"
    }
   ],
   "source": [
    "lst = \"Hello, welcome to my world.\"\n",
    "getSublist(lst)"
   ]
  },
  {
   "cell_type": "code",
   "execution_count": 105,
   "metadata": {},
   "outputs": [
    {
     "data": {
      "text/plain": [
       "[7, 2, 6, 3]"
      ]
     },
     "execution_count": 105,
     "metadata": {},
     "output_type": "execute_result"
    }
   ],
   "source": [
    "lst = [1, 9, 2, 7, 2, 6, 3, 5, 1, 1, 7, 8, 8, 7, 3, 6, 2, 9, 5, 10]\n",
    "getSublist(lst,3) #Starts from index 3 (count starts from 0) and length of sublist should be 4"
   ]
  },
  {
   "cell_type": "code",
   "execution_count": 106,
   "metadata": {},
   "outputs": [
    {
     "data": {
      "text/plain": [
       "['dog', 'elephant', 'frog', 'giraffe', 'horse']"
      ]
     },
     "execution_count": 106,
     "metadata": {},
     "output_type": "execute_result"
    }
   ],
   "source": [
    "lst = ['apple','ball','cat','dog','elephant','frog','giraffe','horse','igloo','Jug','Kite','Lime','Mango']\n",
    "getSublist(lst,3,5) #Starts from index 3 and length of sublist should be 5"
   ]
  },
  {
   "cell_type": "markdown",
   "metadata": {},
   "source": [
    "What the hell did I do this for ? "
   ]
  },
  {
   "cell_type": "code",
   "execution_count": null,
   "metadata": {},
   "outputs": [],
   "source": []
  },
  {
   "cell_type": "code",
   "execution_count": 3,
   "metadata": {},
   "outputs": [
    {
     "data": {
      "text/plain": [
       "{'a': 1, 'b': 3, 'c': 4}"
      ]
     },
     "execution_count": 3,
     "metadata": {},
     "output_type": "execute_result"
    }
   ],
   "source": [
    "x = {'a': 1, 'b': 2}\n",
    "y = {'b': 3, 'c': 4}\n",
    "\n",
    "z = {**x, **y}\n",
    "z"
   ]
  },
  {
   "cell_type": "code",
   "execution_count": 26,
   "metadata": {},
   "outputs": [
    {
     "name": "stdout",
     "output_type": "stream",
     "text": [
      "count:   3\n",
      "min:     97\n",
      "max:     102\n",
      "average: 99.66666666666667\n"
     ]
    }
   ],
   "source": [
    "with open(\"file1.txt\") as file:\n",
    "    lines = file.readlines()\n",
    "\n",
    "scores = []\n",
    "for line in lines:\n",
    "    # remove any leading/trailing whitespace and skip empty lines\n",
    "    line = line.strip()\n",
    "\n",
    "    # split on whitespace and unpack for assigning student and corresponding score\n",
    "    student, score = line.split()\n",
    "    # convert string value to int \n",
    "    scores.append(int(score))\n",
    "    \n",
    "# make use of a few handy Python built-ins:  \n",
    "# sum(), min(), max(), len()\n",
    "print(\"count:  \", len(scores))\n",
    "print(\"min:    \", min(scores))\n",
    "print(\"max:    \", max(scores))\n",
    "print(\"average:\", sum(scores) / len(scores))    "
   ]
  },
  {
   "cell_type": "code",
   "execution_count": 33,
   "metadata": {},
   "outputs": [
    {
     "name": "stdout",
     "output_type": "stream",
     "text": [
      "Highest: ('Sumeru', 102) \n",
      "Lowest: ('David', 97) \n",
      "\n",
      "{'David': 97, 'Ghansu': 100, 'Sumeru': 102}\n"
     ]
    }
   ],
   "source": [
    "d = {}\n",
    "with open('file1.txt','r') as f:\n",
    "    lines = f.readlines()\n",
    "    for line in lines:\n",
    "        d[line.split(',')[0].strip()] = int(line.split(',')[1].strip())\n",
    "        \n",
    "    dic = {k:v for k,v in sorted(d.items(), key = lambda x:x[1])}    \n",
    "    lowest = list(dic.items())[0]\n",
    "    highest = list(dic.items())[-1]\n",
    "    print('Highest:', highest ,\"\\n\"\n",
    "          \"Lowest:\",lowest,\"\\n\")\n",
    "print(d)"
   ]
  },
  {
   "cell_type": "markdown",
   "metadata": {},
   "source": [
    "A very good resource for Generators\n",
    "https://www.learnpython.org/en/Generators"
   ]
  },
  {
   "cell_type": "markdown",
   "metadata": {},
   "source": [
    "Why would we use generator instead of function?\n",
    "\n",
    "When would we use next() in generator?\n",
    "\n",
    "Answer is in: \n",
    "https://www.techbeamers.com/python-generator/"
   ]
  },
  {
   "cell_type": "markdown",
   "metadata": {},
   "source": [
    "And a lot more still to be added for this tutorial, some can be removed if not necessary"
   ]
  },
  {
   "cell_type": "code",
   "execution_count": 1,
   "metadata": {},
   "outputs": [],
   "source": [
    "#Exception handeling will be updated"
   ]
  },
  {
   "cell_type": "code",
   "execution_count": null,
   "metadata": {},
   "outputs": [],
   "source": []
  }
 ],
 "metadata": {
  "kernelspec": {
   "display_name": "Python 3",
   "language": "python",
   "name": "python3"
  },
  "language_info": {
   "codemirror_mode": {
    "name": "ipython",
    "version": 3
   },
   "file_extension": ".py",
   "mimetype": "text/x-python",
   "name": "python",
   "nbconvert_exporter": "python",
   "pygments_lexer": "ipython3",
   "version": "3.7.3"
  }
 },
 "nbformat": 4,
 "nbformat_minor": 2
}
